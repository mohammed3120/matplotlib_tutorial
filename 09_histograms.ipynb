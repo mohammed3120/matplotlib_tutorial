{
 "cells": [
  {
   "cell_type": "code",
   "execution_count": 1,
   "id": "b9ca3f1f",
   "metadata": {},
   "outputs": [],
   "source": [
    "import matplotlib.pyplot as plt\n",
    "import numpy as np"
   ]
  },
  {
   "cell_type": "markdown",
   "id": "870f3f16",
   "metadata": {},
   "source": [
    "# Histogram\n",
    "A histogram is a graph showing frequency distributions.\n",
    "\n",
    "It is a graph showing the number of observations within each given interval.\n",
    "\n",
    "Example: Say you ask for the height of 250 people, you might end up with a histogram like this:"
   ]
  },
  {
   "cell_type": "markdown",
   "id": "8453990d",
   "metadata": {},
   "source": [
    "# Create Histogram\n",
    "In Matplotlib, we use the hist() function to create histograms.\n",
    "\n",
    "The hist() function will use an array of numbers to create a histogram, the array is sent into the function as an argument.\n",
    "\n",
    "For simplicity we use NumPy to randomly generate an array with 250 values, where the values will concentrate around 170, and the standard deviation is 10. Learn more about Normal Data Distribution in our Machine Learning Tutorial."
   ]
  },
  {
   "cell_type": "code",
   "execution_count": 2,
   "id": "e6655e33",
   "metadata": {},
   "outputs": [
    {
     "data": {
      "image/png": "[encoded data removed]",
      "text/plain": [
       "<Figure size 432x288 with 1 Axes>"
      ]
     },
     "metadata": {
      "needs_background": "light"
     },
     "output_type": "display_data"
    }
   ],
   "source": [
    "x = np.random.normal(170, 10, 250)\n",
    "\n",
    "plt.hist(x)\n",
    "plt.show()"
   ]
  },
  {
   "cell_type": "code",
   "execution_count": null,
   "id": "93e8847f",
   "metadata": {},
   "outputs": [],
   "source": []
  }
 ],
 "metadata": {
  "kernelspec": {
   "display_name": "Python 3 (ipykernel)",
   "language": "python",
   "name": "python3"
  },
  "language_info": {
   "codemirror_mode": {
    "name": "ipython",
    "version": 3
   },
   "file_extension": ".py",
   "mimetype": "text/x-python",
   "name": "python",
   "nbconvert_exporter": "python",
   "pygments_lexer": "ipython3",
   "version": "3.9.12"
  }
 },
 "nbformat": 4,
 "nbformat_minor": 5
}
